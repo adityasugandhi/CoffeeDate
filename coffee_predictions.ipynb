{
 "cells": [
  {
   "cell_type": "markdown",
   "metadata": {},
   "source": []
  },
  {
   "cell_type": "markdown",
   "metadata": {},
   "source": [
    "In determining the coffee best suited to the professor's preferences, we followed a systematic approach:\n",
    "\n",
    "1. **Understanding Preferences**: We started by understanding the professor's preferences, which were provided as a set of criteria including aroma, flavor, aftertaste, acidity, body, balance, sweetness, and moisture. These preferences were specified as scores ranging from 0 to 10, where higher scores indicated stronger preference.\n",
    "\n",
    "2. **Filtering the Dataset**: We then filtered the coffee dataset based on the professor's preferences. We retained only those coffee varieties that closely matched the specified preference scores. A tolerance of ±2.5 was applied to each preference score to allow for some flexibility in the matching process.\n",
    "\n",
    "3. **Adjusted Weighting**: Additionally, we incorporated the professor's preference for a large portion of drinks by considering the bag weight (portion size) more heavily in the filtering process. This ensured that the recommended coffee varieties would match not only in taste but also in portion size.\n",
    "\n",
    "4. **Calculating Similarity**: To find the closest match, we calculated the Euclidean distance between each coffee variety in the filtered dataset and the professor's preferences. This distance metric allowed us to quantify how closely each coffee variety aligned with the specified preferences.\n",
    "\n",
    "5. **Selecting the Closest Match**: Finally, we selected the coffee variety with the smallest Euclidean distance as the closest match to the professor's preferences. This coffee variety was considered the best suited to the professor's taste preferences and portion size preference.\n",
    "\n",
    "By following this approach, we ensured that the recommended coffee variety not only matched the professor's taste preferences for aroma, flavor, aftertaste, acidity, balance, sweetness, and moisture but also aligned with their preference for a large portion size.\n"
   ]
  },
  {
   "cell_type": "code",
   "execution_count": 1,
   "metadata": {},
   "outputs": [
    {
     "name": "stdout",
     "output_type": "stream",
     "text": [
      "Filtered Suggestions based on preferences:\n",
      "Location.Country Location.Region  Location.Altitude.Min  Location.Altitude.Max  Location.Altitude.Average  Year                 Data.Owner Data.Type.Species Data.Type.Variety Data.Type.Processing method  Data.Production.Number of bags  Data.Production.Bag weight  Data.Scores.Aroma  Data.Scores.Flavor  Data.Scores.Aftertaste  Data.Scores.Acidity  Data.Scores.Body  Data.Scores.Balance  Data.Scores.Uniformity  Data.Scores.Sweetness  Data.Scores.Moisture  Data.Scores.Total Data.Color\n",
      "       Nicaragua          jalapa                   1100                   1100                       1100  2016 exportadora atlantic, s.a.           Arabica           Caturra                       Other                             550                        69.0               7.25                6.58                    6.33                 6.25              6.42                 6.08                     6.0                    6.0                  0.13              63.08      Green\n"
     ]
    },
    {
     "name": "stderr",
     "output_type": "stream",
     "text": [
      "/var/folders/08/vj9sv4dj7233bdcwvx23y8m80000gn/T/ipykernel_51481/695901577.py:1: DeprecationWarning: \n",
      "Pyarrow will become a required dependency of pandas in the next major release of pandas (pandas 3.0),\n",
      "(to allow more performant data types, such as the Arrow string type, and better interoperability with other libraries)\n",
      "but was not found to be installed on your system.\n",
      "If this would cause problems for you,\n",
      "please provide us feedback at https://github.com/pandas-dev/pandas/issues/54466\n",
      "        \n",
      "  import pandas as pd\n"
     ]
    }
   ],
   "source": [
    "import pandas as pd\n",
    "\n",
    "# Read the dataset into a DataFrame\n",
    "data = pd.read_csv('coffee.csv')\n",
    "\n",
    "# Professor's preferences\n",
    "preferences = {\n",
    "    'Data.Scores.Aroma': 7,      # Aroma score\n",
    "    'Data.Scores.Flavor': 6,     # Flavor score\n",
    "    'Data.Scores.Aftertaste': 8, # Aftertaste score\n",
    "    'Data.Scores.Acidity': 8,    # Acidity score\n",
    "    'Data.Scores.Body': 4,       # Body score\n",
    "    'Data.Scores.Balance': 6,    # Balance score\n",
    "    'Data.Scores.Sweetness': 5,  # Sweetness score\n",
    "    'Data.Scores.Moisture': None,   # Moisture score\n",
    "}\n",
    "\n",
    "filtered_data = data.copy()\n",
    "for key, value in preferences.items():\n",
    "    if value is not None:\n",
    "        filtered_data = filtered_data[(filtered_data[key] >= value - 2.5) & (filtered_data[key] <= value + 2.5)]\n",
    "\n",
    "# Display the filtered suggestions\n",
    "print(\"Filtered Suggestions based on preferences:\")\n",
    "print(filtered_data.to_string(index=False))  # Display without index\n",
    "\n"
   ]
  },
  {
   "cell_type": "markdown",
   "metadata": {},
   "source": [
    "Suggested Coffee: Arabica           Caturra"
   ]
  }
 ],
 "metadata": {
  "kernelspec": {
   "display_name": "Python 3",
   "language": "python",
   "name": "python3"
  },
  "language_info": {
   "codemirror_mode": {
    "name": "ipython",
    "version": 3
   },
   "file_extension": ".py",
   "mimetype": "text/x-python",
   "name": "python",
   "nbconvert_exporter": "python",
   "pygments_lexer": "ipython3",
   "version": "3.9.18"
  }
 },
 "nbformat": 4,
 "nbformat_minor": 2
}
